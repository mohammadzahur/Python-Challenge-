{
 "cells": [
  {
   "cell_type": "code",
   "execution_count": null,
   "id": "39252556-7d45-46b9-ae1b-360e142f6a6e",
   "metadata": {},
   "outputs": [],
   "source": [
    "# Importing the necessary libraries for reading csv files\n",
    "import os\n",
    "import csv\n",
    "# Setting the path for the csv file\n",
    "csvpath = os.path.join(\"..\",\"budget_data.csv\")\n",
    "#Setting Varibales\n",
    "total_months = 0\n",
    "total_net = 0\n",
    "average = 0\n",
    "net_change_list = []\n",
    "greatest_increase_in_profits = [\"\",0]\n",
    "greatest_decrease_in_profits = [\"\",0]\n",
    "month_of_change = []\n",
    "#Open the csv file\n",
    "with open (csvpath, newline=\"\") as csvfile:\n",
    "    csvreader = csv.reader(csvfile, delimiter=\",\")\n",
    "    csv_header = next(csvreader)\n",
    "    first_row = next(csvreader)\n",
    "    total_months = total_months+1\n",
    "    total_net = total_net + int(first_row[1])\n",
    "    previous_net = int(first_row[1])\n",
    "    for row in csvreader:\n",
    "        total_months = total_months +1\n",
    "        total_net = total_net +int(row[1])\n",
    "        change_net = int(row[1]) - previous_net\n",
    "        previous_net = int(row[1])\n",
    "        net_change_list = net_change_list + [change_net]\n",
    "        if change_net > greatest_increase_in_profits[1]:\n",
    "            greatest_increase_in_profits[0]=row[0]\n",
    "            greatest_increase_in_profits[1]=change_net\n",
    "        if change_net < greatest_decrease_in_profits[1]:\n",
    "            greatest_decrease_in_profits[0]=row[0]\n",
    "            greatest_decrease_in_profits[1]=change_net\n",
    "\n",
    "#Printing the results   \n",
    "print(\"                   Pybank Assignment\") \n",
    "print(\"-------------------Financial Analysis-------------------\")\n",
    "#The total number of months included in the dataset\n",
    "print(f\"The total number of months included in the dataset:\")\n",
    "print(total_months)\n",
    "#The net total amount of Profit/Losses over the entire period\n",
    "print(f\"The net total amount of Profit/Losses over the entire period:\")\n",
    "print(total_net)\n",
    "#The average of the changes in Profit/Losses over the entire period\n",
    "average_of_the_change = sum(net_change_list)/total_months\n",
    "print(f\"The average of the changes in Profit/Losses over the entire period:\")\n",
    "print(average_of_the_change)\n",
    "#The greatest increase in profits (date and amount) over the entire period\n",
    "print(f\"The greatest increase in profits (date and amount) over the entire period:\")\n",
    "print(greatest_increase_in_profits)\n",
    "#The greatest decrease in losses (date and amount) over the entire period\n",
    "print(f\"The greatest decrease in losses (date and amount) over the entire period:\")\n",
    "print(greatest_decrease_in_profits)\n",
    "\n"
   ]
  }
 ],
 "metadata": {
  "kernelspec": {
   "display_name": "Python 3 (ipykernel)",
   "language": "python",
   "name": "python3"
  },
  "language_info": {
   "codemirror_mode": {
    "name": "ipython",
    "version": 3
   },
   "file_extension": ".py",
   "mimetype": "text/x-python",
   "name": "python",
   "nbconvert_exporter": "python",
   "pygments_lexer": "ipython3",
   "version": "3.9.13"
  }
 },
 "nbformat": 4,
 "nbformat_minor": 5
}
